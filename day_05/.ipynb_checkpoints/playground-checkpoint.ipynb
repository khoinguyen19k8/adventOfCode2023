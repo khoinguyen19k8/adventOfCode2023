{
 "cells": [
  {
   "cell_type": "code",
   "execution_count": 2,
   "id": "c99414e7-a7be-42d9-a0c0-64e8b34717c6",
   "metadata": {},
   "outputs": [],
   "source": [
    "test_data = \"\"\"seeds: 79 14 55 13\n",
    "\n",
    "seed-to-soil map:\n",
    "50 98 2\n",
    "52 50 48\n",
    "\n",
    "soil-to-fertilizer map:\n",
    "0 15 37\n",
    "37 52 2\n",
    "39 0 15\n",
    "\n",
    "fertilizer-to-water map:\n",
    "49 53 8\n",
    "0 11 42\n",
    "42 0 7\n",
    "57 7 4\n",
    "\n",
    "water-to-light map:\n",
    "88 18 7\n",
    "18 25 70\n",
    "\n",
    "light-to-temperature map:\n",
    "45 77 23\n",
    "81 45 19\n",
    "68 64 13\n",
    "\n",
    "temperature-to-humidity map:\n",
    "0 69 1\n",
    "1 0 69\n",
    "\n",
    "humidity-to-location map:\n",
    "60 56 37\n",
    "56 93 4\"\"\""
   ]
  },
  {
   "cell_type": "code",
   "execution_count": 5,
   "id": "67c8a39f-8606-4a25-bd65-9838dfc184d7",
   "metadata": {},
   "outputs": [],
   "source": [
    "all_maps = test_data.split(\"\\n\\n\")"
   ]
  },
  {
   "cell_type": "code",
   "execution_count": 10,
   "id": "febc9d82-28a8-417c-b543-aa43f471e01d",
   "metadata": {},
   "outputs": [
    {
     "data": {
      "text/plain": [
       "['seeds: 79 14 55 13',\n",
       " 'seed-to-soil map:\\n50 98 2\\n52 50 48',\n",
       " 'soil-to-fertilizer map:\\n0 15 37\\n37 52 2\\n39 0 15',\n",
       " 'fertilizer-to-water map:\\n49 53 8\\n0 11 42\\n42 0 7\\n57 7 4',\n",
       " 'water-to-light map:\\n88 18 7\\n18 25 70',\n",
       " 'light-to-temperature map:\\n45 77 23\\n81 45 19\\n68 64 13',\n",
       " 'temperature-to-humidity map:\\n0 69 1\\n1 0 69',\n",
       " 'humidity-to-location map:\\n60 56 37\\n56 93 4']"
      ]
     },
     "execution_count": 10,
     "metadata": {},
     "output_type": "execute_result"
    }
   ],
   "source": [
    "all_maps"
   ]
  },
  {
   "cell_type": "code",
   "execution_count": 9,
   "id": "6fef26b0-3100-4c15-9f71-aac4a2e959f8",
   "metadata": {},
   "outputs": [
    {
     "data": {
      "text/plain": [
       "['50 98 2', '52 50 48']"
      ]
     },
     "execution_count": 9,
     "metadata": {},
     "output_type": "execute_result"
    }
   ],
   "source": [
    "all_maps[1].split(\"\\n\")[1:]"
   ]
  },
  {
   "cell_type": "code",
   "execution_count": 15,
   "id": "ea1692fb-15c7-4f15-827b-1228827c282d",
   "metadata": {},
   "outputs": [],
   "source": [
    "with open(\"input.txt\") as f:\n",
    "    input = f.read().split(\"\\n\\n\")\n",
    "    all_seeds = input[0].split(\":\")[1].split()\n",
    "    all_maps = input[1:]"
   ]
  }
 ],
 "metadata": {
  "kernelspec": {
   "display_name": "Python 3 (ipykernel)",
   "language": "python",
   "name": "python3"
  },
  "language_info": {
   "codemirror_mode": {
    "name": "ipython",
    "version": 3
   },
   "file_extension": ".py",
   "mimetype": "text/x-python",
   "name": "python",
   "nbconvert_exporter": "python",
   "pygments_lexer": "ipython3",
   "version": "3.11.6"
  }
 },
 "nbformat": 4,
 "nbformat_minor": 5
}
