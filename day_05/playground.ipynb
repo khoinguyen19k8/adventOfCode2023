{
 "cells": [
  {
   "cell_type": "code",
   "execution_count": 1,
   "id": "c99414e7-a7be-42d9-a0c0-64e8b34717c6",
   "metadata": {},
   "outputs": [],
   "source": [
    "test_data = \"\"\"seeds: 79 14 55 13\n",
    "\n",
    "seed-to-soil map:\n",
    "50 98 2\n",
    "52 50 48\n",
    "\n",
    "soil-to-fertilizer map:\n",
    "0 15 37\n",
    "37 52 2\n",
    "39 0 15\n",
    "\n",
    "fertilizer-to-water map:\n",
    "49 53 8\n",
    "0 11 42\n",
    "42 0 7\n",
    "57 7 4\n",
    "\n",
    "water-to-light map:\n",
    "88 18 7\n",
    "18 25 70\n",
    "\n",
    "light-to-temperature map:\n",
    "45 77 23\n",
    "81 45 19\n",
    "68 64 13\n",
    "\n",
    "temperature-to-humidity map:\n",
    "0 69 1\n",
    "1 0 69\n",
    "\n",
    "humidity-to-location map:\n",
    "60 56 37\n",
    "56 93 4\"\"\"\n",
    "test_flag = True"
   ]
  },
  {
   "cell_type": "code",
   "execution_count": 2,
   "id": "ea1692fb-15c7-4f15-827b-1228827c282d",
   "metadata": {},
   "outputs": [],
   "source": [
    "if test_flag == False:\n",
    "    with open(\"input.txt\") as f:\n",
    "        input = f.read().split(\"\\n\\n\")\n",
    "else:\n",
    "    input = test_data.split(\"\\n\\n\")\n",
    "all_seeds = list(map(int, input[0].split(\":\")[1].split()))\n",
    "all_maps = input[1:]"
   ]
  },
  {
   "cell_type": "code",
   "execution_count": 3,
   "id": "6d6cd285-f137-4d9a-96d8-05f5162bb820",
   "metadata": {},
   "outputs": [
    {
     "data": {
      "text/plain": [
       "['seed-to-soil map:\\n50 98 2\\n52 50 48',\n",
       " 'soil-to-fertilizer map:\\n0 15 37\\n37 52 2\\n39 0 15',\n",
       " 'fertilizer-to-water map:\\n49 53 8\\n0 11 42\\n42 0 7\\n57 7 4',\n",
       " 'water-to-light map:\\n88 18 7\\n18 25 70',\n",
       " 'light-to-temperature map:\\n45 77 23\\n81 45 19\\n68 64 13',\n",
       " 'temperature-to-humidity map:\\n0 69 1\\n1 0 69',\n",
       " 'humidity-to-location map:\\n60 56 37\\n56 93 4']"
      ]
     },
     "execution_count": 3,
     "metadata": {},
     "output_type": "execute_result"
    }
   ],
   "source": [
    "all_maps"
   ]
  },
  {
   "cell_type": "code",
   "execution_count": 31,
   "id": "fa736291-da39-463a-876c-2e91da706fa2",
   "metadata": {},
   "outputs": [
    {
     "data": {
      "text/plain": [
       "<map at 0x107a90f10>"
      ]
     },
     "execution_count": 31,
     "metadata": {},
     "output_type": "execute_result"
    }
   ],
   "source": [
    "all_seeds"
   ]
  },
  {
   "cell_type": "code",
   "execution_count": 23,
   "id": "39ff98ba-21bf-4062-9535-b8bd21db8658",
   "metadata": {},
   "outputs": [
    {
     "data": {
      "text/plain": [
       "['seed-to-soil map:', '50 98 2', '52 50 48']"
      ]
     },
     "execution_count": 23,
     "metadata": {},
     "output_type": "execute_result"
    }
   ],
   "source": [
    "all_maps[0].split(\"\\n\")"
   ]
  },
  {
   "cell_type": "code",
   "execution_count": 38,
   "id": "5d87ea94-9b42-4222-b7b7-17a3001a5bcb",
   "metadata": {},
   "outputs": [
    {
     "data": {
      "text/plain": [
       "([range(98, 100), range(50, 98)], [50, 52])"
      ]
     },
     "execution_count": 38,
     "metadata": {},
     "output_type": "execute_result"
    }
   ],
   "source": [
    "src_ranges, dest_starts = [], []\n",
    "for map_line in all_maps[0].split(\"\\n\")[1:]:\n",
    "    dest_start, src_start, range_length = map(int, map_line.split())\n",
    "    src_ranges.append(range(src_start, src_start + range_length))\n",
    "    dest_starts.append(dest_start)\n",
    "src_ranges, dest_starts"
   ]
  },
  {
   "cell_type": "code",
   "execution_count": 101,
   "id": "8ae830a1-e2f7-4da7-9596-efc8f686689f",
   "metadata": {},
   "outputs": [],
   "source": [
    "def calculate_target_number(src, src_to_target_map):\n",
    "    src_ranges, dest_starts = [], []\n",
    "    for map_line in src_to_target_map.split(\"\\n\")[1:]:\n",
    "        dest_start, src_start, range_length = [int(x) for x in map_line.split()]\n",
    "        src_ranges.append(range(src_start, src_start + range_length))\n",
    "        dest_starts.append(dest_start)\n",
    "    for idx, src_rng in enumerate(src_ranges):\n",
    "        if src in src_rng:\n",
    "            return dest_starts[idx] + (src - src_rng[0])\n",
    "    return src"
   ]
  },
  {
   "cell_type": "code",
   "execution_count": 108,
   "id": "a40371b6-b90a-49df-850a-963d28cecd28",
   "metadata": {},
   "outputs": [
    {
     "name": "stdout",
     "output_type": "stream",
     "text": [
      "[79, 14, 55, 13]\n",
      "[81, 14, 57, 13]\n",
      "[81, 53, 57, 52]\n",
      "[81, 49, 53, 41]\n",
      "[74, 42, 46, 34]\n",
      "[78, 42, 82, 34]\n",
      "[78, 43, 82, 35]\n",
      "[82, 43, 86, 35]\n"
     ]
    }
   ],
   "source": [
    "all_src = all_seeds\n",
    "print(all_src)\n",
    "for map in all_maps:\n",
    "    all_src = [calculate_target_number(src, map) for src in all_src]\n",
    "    print(all_src)"
   ]
  },
  {
   "cell_type": "code",
   "execution_count": 86,
   "id": "7d87127b-1c82-4172-8d16-9bce8f609309",
   "metadata": {},
   "outputs": [
    {
     "data": {
      "text/plain": [
       "[81, 81, 81, 81]"
      ]
     },
     "execution_count": 86,
     "metadata": {},
     "output_type": "execute_result"
    }
   ],
   "source": [
    "all_src"
   ]
  }
 ],
 "metadata": {
  "kernelspec": {
   "display_name": "Python 3 (ipykernel)",
   "language": "python",
   "name": "python3"
  },
  "language_info": {
   "codemirror_mode": {
    "name": "ipython",
    "version": 3
   },
   "file_extension": ".py",
   "mimetype": "text/x-python",
   "name": "python",
   "nbconvert_exporter": "python",
   "pygments_lexer": "ipython3",
   "version": "3.11.6"
  }
 },
 "nbformat": 4,
 "nbformat_minor": 5
}
