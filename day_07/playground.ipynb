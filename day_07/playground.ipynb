{
 "cells": [
  {
   "cell_type": "code",
   "execution_count": 3,
   "outputs": [
    {
     "name": "stdout",
     "output_type": "stream",
     "text": [
      "Five of a kind\n",
      "Four of a kind\n",
      "Full house\n",
      "Three of a kind\n",
      "Two pair\n",
      "One pair\n",
      "High card\n"
     ]
    }
   ],
   "source": [
    "from collections import Counter\n",
    "test_str_lst = [\"AAAAA\", \"AA8AA\", \"23332\", \"TTT98\", \"23432\", \"A23A4\", \"23456\"]\n",
    "for test_str in test_str_lst:\n",
    "    match Counter(test_str).most_common():\n",
    "        case [(_, 5)]:\n",
    "            print(\"Five of a kind\")\n",
    "        case [(_, 4), *_]:\n",
    "            print(\"Four of a kind\")\n",
    "        case [(_, 3), (_, 2)]:\n",
    "            print(\"Full house\")\n",
    "        case [(_, 3), _, _]:\n",
    "            print(\"Three of a kind\")\n",
    "        case [(_, 2), (_, 2), _]:\n",
    "            print(\"Two pair\")\n",
    "        case [(_, 2), *_]:\n",
    "            print(\"One pair\")\n",
    "        case _:\n",
    "            print(\"High card\")"
   ],
   "metadata": {
    "collapsed": false,
    "ExecuteTime": {
     "end_time": "2023-12-07T14:21:43.136926Z",
     "start_time": "2023-12-07T14:21:43.135299Z"
    }
   },
   "id": "4767f498fb58edd"
  },
  {
   "cell_type": "code",
   "execution_count": 6,
   "outputs": [
    {
     "name": "stdout",
     "output_type": "stream",
     "text": [
      "['32T3K', '765']\n"
     ]
    }
   ],
   "source": [
    "with open(\"mock_input.txt\") as f:\n",
    "    print(f.read().split(\"\\n\")[:-1][0].split())"
   ],
   "metadata": {
    "collapsed": false,
    "ExecuteTime": {
     "end_time": "2023-12-07T14:48:12.569811Z",
     "start_time": "2023-12-07T14:48:12.558483Z"
    }
   },
   "id": "3294df6b73457343"
  },
  {
   "cell_type": "code",
   "execution_count": 8,
   "outputs": [
    {
     "data": {
      "text/plain": "('32T3K', '765')"
     },
     "execution_count": 8,
     "metadata": {},
     "output_type": "execute_result"
    }
   ],
   "source": [
    "a = ['32T3K', '765']\n",
    "hand, bid = a\n",
    "hand, bid"
   ],
   "metadata": {
    "collapsed": false,
    "ExecuteTime": {
     "end_time": "2023-12-07T14:48:57.561040Z",
     "start_time": "2023-12-07T14:48:57.529993Z"
    }
   },
   "id": "89edce9e99bde32"
  },
  {
   "cell_type": "code",
   "execution_count": null,
   "outputs": [],
   "source": [
    "def calculate_strength_hand_alt(hand: str):\n",
    "    \"\"\"\n",
    "    Return the strength of a hand in ascending order ranges from 0 -> 6.\n",
    "    \"\"\"\n",
    "    hand_counts = Counter(hand)\n",
    "    match hand_counts.most_common():\n",
    "        case [(_, 3), (_, 2)] | [(_, 2), (_, 2), ('J', 1)]:  # Full house\n",
    "            return 2\n",
    "        case [(_, 2), (_, 2), _]:  # Two pair\n",
    "            return 4\n",
    "        case [(_, 5)]:  # Five of a kind\n",
    "            return 0\n",
    "        case [_, _] if 'J' in hand_counts:  # Five of a kind\n",
    "            return 0\n",
    "        case [(_, 4), _]:  # Four of a kind\n",
    "            return 1\n",
    "        case [_, _, _] if 'J' in hand_counts:  # Four of a kind\n",
    "            return 1\n",
    "        case [(_, 3), _, _]:  # Three of a kind\n",
    "            return 3\n",
    "        case [_, _, _, _] if 'J' in hand_counts:  # Three of a kind\n",
    "            return 3\n",
    "        case [(_, 2), *_]:  # One pair\n",
    "            return 5\n",
    "        case [_, _, _, _, _] if 'J' in hand_counts:  # One pair\n",
    "            return 5\n",
    "        case _:  # High card\n",
    "            return 6\n",
    "\n"
   ],
   "metadata": {
    "collapsed": false
   },
   "id": "e653ed7e918d654"
  }
 ],
 "metadata": {
  "kernelspec": {
   "display_name": "Python 3",
   "language": "python",
   "name": "python3"
  },
  "language_info": {
   "codemirror_mode": {
    "name": "ipython",
    "version": 2
   },
   "file_extension": ".py",
   "mimetype": "text/x-python",
   "name": "python",
   "nbconvert_exporter": "python",
   "pygments_lexer": "ipython2",
   "version": "2.7.6"
  }
 },
 "nbformat": 4,
 "nbformat_minor": 5
}
