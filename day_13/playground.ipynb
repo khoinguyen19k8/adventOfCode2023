{
 "cells": [
  {
   "cell_type": "code",
   "execution_count": 84,
   "metadata": {},
   "outputs": [],
   "source": [
    "import numpy as np\n",
    "from numpy.linalg import norm\n",
    "import os\n",
    "from math import floor\n",
    "\n",
    "test_str = \"\"\"#.##..##.\n",
    "..#.##.#.\n",
    "##......#\n",
    "##......#\n",
    "..#.##.#.\n",
    "..##..##.\n",
    "#.#.##.#.\"\"\"\n",
    "second_str = \"\"\"#...##..#\n",
    "#....#..#\n",
    "..##..###\n",
    "#####.##.\n",
    "#####.##.\n",
    "..##..###\n",
    "#....#..#\"\"\""
   ]
  },
  {
   "cell_type": "code",
   "execution_count": 43,
   "metadata": {},
   "outputs": [
    {
     "data": {
      "text/plain": [
       "array([[1, 0, 1, 1, 0, 0, 1, 1, 0],\n",
       "       [0, 0, 1, 0, 1, 1, 0, 1, 0],\n",
       "       [1, 1, 0, 0, 0, 0, 0, 0, 1],\n",
       "       [1, 1, 0, 0, 0, 0, 0, 0, 1],\n",
       "       [0, 0, 1, 0, 1, 1, 0, 1, 0],\n",
       "       [0, 0, 1, 1, 0, 0, 1, 1, 0],\n",
       "       [1, 0, 1, 0, 1, 1, 0, 1, 0]], dtype=int16)"
      ]
     },
     "execution_count": 43,
     "metadata": {},
     "output_type": "execute_result"
    }
   ],
   "source": [
    "arr_str = [list(s.replace('.', '0').replace('#', '1')) for s in test_str.split(\"\\n\")]\n",
    "another_arr_str = [list(s.replace('.', '0').replace('#', '1')) for s in second_str.split(\"\\n\")]\n",
    "arr_num = np.asarray(arr_str, dtype=np.int16)\n",
    "another_arr_num = np.asarray(another_arr_str, dtype=np.int16)\n",
    "arr_num"
   ]
  },
  {
   "cell_type": "code",
   "execution_count": 35,
   "metadata": {},
   "outputs": [
    {
     "data": {
      "text/plain": [
       "array([4., 2., 5., 2., 3., 3., 2., 5., 2.])"
      ]
     },
     "execution_count": 35,
     "metadata": {},
     "output_type": "execute_result"
    }
   ],
   "source": [
    "norm(arr_num, axis=0, ord=1)"
   ]
  },
  {
   "cell_type": "code",
   "execution_count": 36,
   "metadata": {},
   "outputs": [
    {
     "data": {
      "text/plain": [
       "array([5., 4., 3., 3., 4., 4., 5.])"
      ]
     },
     "execution_count": 36,
     "metadata": {},
     "output_type": "execute_result"
    }
   ],
   "source": [
    "norm(arr_num, axis=1, ord=1)"
   ]
  },
  {
   "cell_type": "code",
   "execution_count": 63,
   "metadata": {},
   "outputs": [
    {
     "data": {
      "text/plain": [
       "array([5., 4., 3., 3., 4., 4., 5.])"
      ]
     },
     "execution_count": 63,
     "metadata": {},
     "output_type": "execute_result"
    }
   ],
   "source": [
    "norm(arr_num.T, axis=0, ord=1)"
   ]
  },
  {
   "cell_type": "code",
   "execution_count": 28,
   "metadata": {},
   "outputs": [
    {
     "data": {
      "text/plain": [
       "array([[5, 2, 1, 1, 2, 4, 3],\n",
       "       [2, 4, 0, 0, 4, 2, 4],\n",
       "       [1, 0, 3, 3, 0, 0, 1],\n",
       "       [1, 0, 3, 3, 0, 0, 1],\n",
       "       [2, 4, 0, 0, 4, 2, 4],\n",
       "       [4, 2, 0, 0, 2, 4, 2],\n",
       "       [3, 4, 1, 1, 4, 2, 5]], dtype=int16)"
      ]
     },
     "execution_count": 28,
     "metadata": {},
     "output_type": "execute_result"
    }
   ],
   "source": [
    "np.matmul(arr_num, arr_num.T)"
   ]
  },
  {
   "cell_type": "code",
   "execution_count": 37,
   "metadata": {},
   "outputs": [
    {
     "data": {
      "text/plain": [
       "array([[ 0., -2., -2., -2., -2.,  0., -2.],\n",
       "       [-3.,  0., -3., -3.,  0., -2., -1.],\n",
       "       [-4., -4.,  0.,  0., -4., -4., -4.],\n",
       "       [-4., -4.,  0.,  0., -4., -4., -4.],\n",
       "       [-3.,  0., -3., -3.,  0., -2., -1.],\n",
       "       [-1., -2., -3., -3., -2.,  0., -3.],\n",
       "       [-2.,  0., -2., -2.,  0., -2.,  0.]])"
      ]
     },
     "execution_count": 37,
     "metadata": {},
     "output_type": "execute_result"
    }
   ],
   "source": [
    "np.matmul(arr_num, arr_num.T) - norm(arr_num, axis=1, ord=1)"
   ]
  },
  {
   "cell_type": "code",
   "execution_count": 40,
   "metadata": {},
   "outputs": [
    {
     "data": {
      "text/plain": [
       "array([[ 0.,  0., -3., -1., -2., -2., -1., -3.,  0.],\n",
       "       [-2.,  0., -5., -2., -3., -3., -2., -5.,  0.],\n",
       "       [-2., -2.,  0.,  0.,  0.,  0.,  0.,  0., -2.],\n",
       "       [-3., -2., -3.,  0., -3., -3.,  0., -3., -2.],\n",
       "       [-3., -2., -2., -2.,  0.,  0., -2., -2., -2.],\n",
       "       [-3., -2., -2., -2.,  0.,  0., -2., -2., -2.],\n",
       "       [-3., -2., -3.,  0., -3., -3.,  0., -3., -2.],\n",
       "       [-2., -2.,  0.,  0.,  0.,  0.,  0.,  0., -2.],\n",
       "       [-2.,  0., -5., -2., -3., -3., -2., -5.,  0.]])"
      ]
     },
     "execution_count": 40,
     "metadata": {},
     "output_type": "execute_result"
    }
   ],
   "source": [
    "np.matmul(arr_num.T, arr_num) - norm(arr_num, axis=0, ord=1)"
   ]
  },
  {
   "cell_type": "code",
   "execution_count": 51,
   "metadata": {},
   "outputs": [
    {
     "data": {
      "text/plain": [
       "array([[ 0.,  0., -4., -5., -5., -4.,  0.],\n",
       "       [-1.,  0., -4., -6., -6., -4.,  0.],\n",
       "       [-3., -2.,  0., -3., -3.,  0., -2.],\n",
       "       [-2., -2., -1.,  0.,  0., -1., -2.],\n",
       "       [-2., -2., -1.,  0.,  0., -1., -2.],\n",
       "       [-3., -2.,  0., -3., -3.,  0., -2.],\n",
       "       [-1.,  0., -4., -6., -6., -4.,  0.]])"
      ]
     },
     "execution_count": 51,
     "metadata": {},
     "output_type": "execute_result"
    }
   ],
   "source": [
    "(np.matmul(another_arr_num, another_arr_num.T) - norm(another_arr_num, axis=1, ord=1))"
   ]
  },
  {
   "cell_type": "code",
   "execution_count": 56,
   "metadata": {},
   "outputs": [],
   "source": [
    "tmp = (np.matmul(another_arr_num, another_arr_num.T) - norm(another_arr_num, axis=1, ord=1))"
   ]
  },
  {
   "cell_type": "code",
   "execution_count": 58,
   "metadata": {},
   "outputs": [
    {
     "data": {
      "text/plain": [
       "0.0"
      ]
     },
     "execution_count": 58,
     "metadata": {},
     "output_type": "execute_result"
    }
   ],
   "source": [
    "np.trace(np.flipud(tmp[1:, 1:]))"
   ]
  },
  {
   "cell_type": "code",
   "execution_count": 61,
   "metadata": {},
   "outputs": [
    {
     "data": {
      "text/plain": [
       "['abc', 'cde', 'efg']"
      ]
     },
     "execution_count": 61,
     "metadata": {},
     "output_type": "execute_result"
    }
   ],
   "source": [
    "a = \"\"\"abc\n",
    "cde\n",
    "efg\n",
    "\n",
    "aaa\n",
    "bbb\n",
    "ccc\n",
    "\"\"\"\n",
    "a.split(2 * os.linesep)[0].split(\"\\n\")"
   ]
  },
  {
   "cell_type": "code",
   "execution_count": 65,
   "metadata": {},
   "outputs": [
    {
     "data": {
      "text/plain": [
       "8"
      ]
     },
     "execution_count": 65,
     "metadata": {},
     "output_type": "execute_result"
    }
   ],
   "source": [
    "arr_num.shape[0] + 1"
   ]
  },
  {
   "cell_type": "code",
   "execution_count": 91,
   "metadata": {},
   "outputs": [
    {
     "name": "stdout",
     "output_type": "stream",
     "text": [
      "diag_tmp = array([-1.,  0.]), i = -5, start = 0, end = 1, cutoff_point = 0\n",
      "diag_tmp = array([-2., -2., -4., -5.]), i = -3, start = 0, end = 3, cutoff_point = 1\n",
      "diag_tmp = array([-3., -2., -1., -3., -6., -4.]), i = -1, start = 0, end = 5, cutoff_point = 2\n",
      "diag_tmp = array([0., 0., 0., 0., 0., 0.]), i = 1, start = 1, end = 6, cutoff_point = 3\n",
      "diag_tmp = array([-6., -3., -1., -2.]), i = 3, start = 3, end = 6, cutoff_point = 4\n",
      "diag_tmp = array([-4., -2.]), i = 5, start = 5, end = 6, cutoff_point = 5\n"
     ]
    }
   ],
   "source": [
    "for i in range(-tmp.shape[0] + 2, tmp.shape[0] - 1):\n",
    "    diag_tmp = np.diag(np.flipud(tmp), i)\n",
    "    if len(diag_tmp) % 2 == 0:\n",
    "        if i <= 0:\n",
    "            start, end = 0, len(diag_tmp) - 1\n",
    "        else:\n",
    "            start, end = i, another_arr_num.shape[0] - 1 \n",
    "        cutoff_point = floor((start + end) / 2)\n",
    "        print(f\"{diag_tmp = }, {i = }, {start = }, {end = }, {cutoff_point = }\")"
   ]
  },
  {
   "cell_type": "code",
   "execution_count": 87,
   "metadata": {},
   "outputs": [
    {
     "data": {
      "text/plain": [
       "(7, 9)"
      ]
     },
     "execution_count": 87,
     "metadata": {},
     "output_type": "execute_result"
    }
   ],
   "source": [
    "another_arr_num.shape"
   ]
  }
 ],
 "metadata": {
  "kernelspec": {
   "display_name": "venv",
   "language": "python",
   "name": "python3"
  },
  "language_info": {
   "codemirror_mode": {
    "name": "ipython",
    "version": 3
   },
   "file_extension": ".py",
   "mimetype": "text/x-python",
   "name": "python",
   "nbconvert_exporter": "python",
   "pygments_lexer": "ipython3",
   "version": "3.11.6"
  }
 },
 "nbformat": 4,
 "nbformat_minor": 2
}
